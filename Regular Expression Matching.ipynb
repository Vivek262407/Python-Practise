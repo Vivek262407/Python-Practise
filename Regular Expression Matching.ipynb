{
 "cells": [
  {
   "cell_type": "markdown",
   "id": "36de7460",
   "metadata": {},
   "source": [
    "# Regular Expression Matching\n",
    "    Input: s = \"aa\", p = \"a\"\n",
    "    Output: false\n",
    "    Explanation: \"a\" does not match the entire string \"aa\"."
   ]
  },
  {
   "cell_type": "code",
   "execution_count": 2,
   "id": "a5a69243",
   "metadata": {},
   "outputs": [],
   "source": [
    "# Define the Solution class\n",
    "class Solution:\n",
    "    def isMatch(self, s: str, p: str) -> bool:\n",
    "        memo = {}\n",
    "\n",
    "        def backtrack(i, j):\n",
    "            if (i, j) in memo:\n",
    "                return memo[(i, j)]\n",
    "\n",
    "            if j == len(p):\n",
    "                return i == len(s)\n",
    "\n",
    "            match = i < len(s) and (s[i] == p[j] or p[j] == '.')\n",
    "            if j + 1 < len(p) and p[j + 1] == '*':\n",
    "                memo[(i, j)] = (backtrack(i, j + 2) or\n",
    "                                match and backtrack(i + 1, j))\n",
    "            else:\n",
    "                memo[(i, j)] = match and backtrack(i + 1, j + 1)\n",
    "\n",
    "            return memo[(i, j)]\n",
    "\n",
    "        return backtrack(0, 0)"
   ]
  },
  {
   "cell_type": "code",
   "execution_count": 3,
   "id": "196d7fa6",
   "metadata": {},
   "outputs": [],
   "source": [
    "# Create an instance of the Solution class\n",
    "solution = Solution()"
   ]
  },
  {
   "cell_type": "code",
   "execution_count": 5,
   "id": "ed7d3b37",
   "metadata": {},
   "outputs": [
    {
     "name": "stdout",
     "output_type": "stream",
     "text": [
      "True\n"
     ]
    }
   ],
   "source": [
    "# Test case\n",
    "s = \"aa\"\n",
    "p = \"a*\"\n",
    "print(solution.isMatch(s, p))"
   ]
  },
  {
   "cell_type": "code",
   "execution_count": null,
   "id": "bcc9e81b",
   "metadata": {},
   "outputs": [],
   "source": []
  }
 ],
 "metadata": {
  "kernelspec": {
   "display_name": "Python 3 (ipykernel)",
   "language": "python",
   "name": "python3"
  },
  "language_info": {
   "codemirror_mode": {
    "name": "ipython",
    "version": 3
   },
   "file_extension": ".py",
   "mimetype": "text/x-python",
   "name": "python",
   "nbconvert_exporter": "python",
   "pygments_lexer": "ipython3",
   "version": "3.9.13"
  }
 },
 "nbformat": 4,
 "nbformat_minor": 5
}
