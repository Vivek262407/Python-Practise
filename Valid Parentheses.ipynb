{
 "cells": [
  {
   "cell_type": "markdown",
   "id": "b3e50e8a",
   "metadata": {},
   "source": [
    "# Valid Parentheses\n",
    "    Example 1:\n",
    "    Input: s = \"()\"\n",
    "    Output: true\n",
    "\n",
    "    Example 2:\n",
    "    Input: s = \"()[]{}\"\n",
    "    Output: true\n",
    "\n",
    "    Example 3:\n",
    "    Input: s = \"(]\"\n",
    "    Output: false"
   ]
  },
  {
   "cell_type": "code",
   "execution_count": 2,
   "id": "e5d2a16f",
   "metadata": {},
   "outputs": [],
   "source": [
    "# Define the Solution class with the shortened isValid method\n",
    "class Solution(object):\n",
    "    def isValid(self, s):\n",
    "        stack = []\n",
    "        brackets_map = {')': '(', '}': '{', ']': '['}\n",
    "        for c in s:\n",
    "            if c in brackets_map:\n",
    "                if not stack or stack.pop() != brackets_map[c]:\n",
    "                    return False\n",
    "            else:\n",
    "                stack.append(c)\n",
    "        return not stack"
   ]
  },
  {
   "cell_type": "code",
   "execution_count": 3,
   "id": "7d273c29",
   "metadata": {},
   "outputs": [],
   "source": [
    "# Create an instance of the Solution class\n",
    "solution = Solution()"
   ]
  },
  {
   "cell_type": "code",
   "execution_count": 4,
   "id": "a9738400",
   "metadata": {},
   "outputs": [
    {
     "name": "stdout",
     "output_type": "stream",
     "text": [
      "True\n"
     ]
    }
   ],
   "source": [
    "# Test the isValid method with a string argument\n",
    "input_string = \"(){}[]\"\n",
    "print(solution.isValid(input_string))  # Output: True"
   ]
  },
  {
   "cell_type": "code",
   "execution_count": 5,
   "id": "fd485dca",
   "metadata": {},
   "outputs": [
    {
     "name": "stdout",
     "output_type": "stream",
     "text": [
      "True\n"
     ]
    }
   ],
   "source": [
    "input_string = \"([{}])\"\n",
    "print(solution.isValid(input_string))  # Output: True"
   ]
  },
  {
   "cell_type": "code",
   "execution_count": 6,
   "id": "d0315877",
   "metadata": {},
   "outputs": [
    {
     "name": "stdout",
     "output_type": "stream",
     "text": [
      "False\n"
     ]
    }
   ],
   "source": [
    "input_string = \"([)]\"\n",
    "print(solution.isValid(input_string))  # Output: False"
   ]
  },
  {
   "cell_type": "code",
   "execution_count": null,
   "id": "bf61b29e",
   "metadata": {},
   "outputs": [],
   "source": []
  }
 ],
 "metadata": {
  "kernelspec": {
   "display_name": "Python 3 (ipykernel)",
   "language": "python",
   "name": "python3"
  },
  "language_info": {
   "codemirror_mode": {
    "name": "ipython",
    "version": 3
   },
   "file_extension": ".py",
   "mimetype": "text/x-python",
   "name": "python",
   "nbconvert_exporter": "python",
   "pygments_lexer": "ipython3",
   "version": "3.10.9"
  }
 },
 "nbformat": 4,
 "nbformat_minor": 5
}
