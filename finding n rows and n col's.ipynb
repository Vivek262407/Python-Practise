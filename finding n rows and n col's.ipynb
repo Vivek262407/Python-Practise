{
 "cells": [
  {
   "cell_type": "markdown",
   "id": "71813b49",
   "metadata": {},
   "source": [
    "# To find the no of rows and col's in the dataset\n"
   ]
  },
  {
   "cell_type": "code",
   "execution_count": 3,
   "id": "14590002",
   "metadata": {},
   "outputs": [],
   "source": [
    "import pandas as pd"
   ]
  },
  {
   "cell_type": "code",
   "execution_count": 10,
   "id": "a04fb4f1",
   "metadata": {},
   "outputs": [],
   "source": [
    "# Define the size of the DataFrame\n",
    "n = 5"
   ]
  },
  {
   "cell_type": "code",
   "execution_count": 9,
   "id": "530d25b0",
   "metadata": {},
   "outputs": [],
   "source": [
    "# Create a dictionary to hold the data\n",
    "data = {}\n",
    "\n",
    "# Generate column names\n",
    "columns = [f'col_{i}' for i in range(n)]"
   ]
  },
  {
   "cell_type": "code",
   "execution_count": 8,
   "id": "bc1c3d2b",
   "metadata": {},
   "outputs": [],
   "source": [
    "# Generate data for each column\n",
    "for col in columns:\n",
    "    data[col] = [f'{col}_row_{i}' for i in range(n)]\n",
    "\n",
    "# Create the DataFrame\n",
    "df = pd.DataFrame(data)"
   ]
  },
  {
   "cell_type": "code",
   "execution_count": 7,
   "id": "209809a8",
   "metadata": {},
   "outputs": [
    {
     "name": "stdout",
     "output_type": "stream",
     "text": [
      "         col_0        col_1        col_2        col_3        col_4\n",
      "0  col_0_row_0  col_1_row_0  col_2_row_0  col_3_row_0  col_4_row_0\n",
      "1  col_0_row_1  col_1_row_1  col_2_row_1  col_3_row_1  col_4_row_1\n",
      "2  col_0_row_2  col_1_row_2  col_2_row_2  col_3_row_2  col_4_row_2\n",
      "3  col_0_row_3  col_1_row_3  col_2_row_3  col_3_row_3  col_4_row_3\n",
      "4  col_0_row_4  col_1_row_4  col_2_row_4  col_3_row_4  col_4_row_4\n"
     ]
    }
   ],
   "source": [
    "# Display the DataFrame\n",
    "print(df)"
   ]
  },
  {
   "cell_type": "code",
   "execution_count": null,
   "id": "570dd1dc",
   "metadata": {},
   "outputs": [],
   "source": []
  }
 ],
 "metadata": {
  "kernelspec": {
   "display_name": "Python 3 (ipykernel)",
   "language": "python",
   "name": "python3"
  },
  "language_info": {
   "codemirror_mode": {
    "name": "ipython",
    "version": 3
   },
   "file_extension": ".py",
   "mimetype": "text/x-python",
   "name": "python",
   "nbconvert_exporter": "python",
   "pygments_lexer": "ipython3",
   "version": "3.10.9"
  }
 },
 "nbformat": 4,
 "nbformat_minor": 5
}
