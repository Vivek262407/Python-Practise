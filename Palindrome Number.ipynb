{
 "cells": [
  {
   "cell_type": "markdown",
   "id": "65d2e315",
   "metadata": {},
   "source": [
    "# Palindrome Number\n",
    "    Input: x = 121\n",
    "    Output: true\n",
    "    Explanation: 121 reads as 121 from left to right and from right to left.\n"
   ]
  },
  {
   "cell_type": "code",
   "execution_count": 3,
   "id": "0e79cea4",
   "metadata": {},
   "outputs": [],
   "source": [
    "class Solution:\n",
    "    def isPalindrome(self, x: int) -> bool:\n",
    "        return str(x) == str(x)[::-1] if x >= 0 else False"
   ]
  },
  {
   "cell_type": "code",
   "execution_count": 4,
   "id": "d735769d",
   "metadata": {},
   "outputs": [],
   "source": [
    "# Create an instance of the Solution class\n",
    "solution = Solution()"
   ]
  },
  {
   "cell_type": "code",
   "execution_count": 5,
   "id": "0159f742",
   "metadata": {},
   "outputs": [
    {
     "name": "stdout",
     "output_type": "stream",
     "text": [
      "121 is a palindrome: True\n",
      "-121 is a palindrome: False\n",
      "10 is a palindrome: False\n"
     ]
    }
   ],
   "source": [
    "\n",
    "# Test cases\n",
    "nums = [121, -121, 10]\n",
    "for num in nums:\n",
    "    print(f\"{num} is a palindrome: {solution.isPalindrome(num)}\")"
   ]
  },
  {
   "cell_type": "code",
   "execution_count": null,
   "id": "33df45e6",
   "metadata": {},
   "outputs": [],
   "source": []
  }
 ],
 "metadata": {
  "kernelspec": {
   "display_name": "Python 3 (ipykernel)",
   "language": "python",
   "name": "python3"
  },
  "language_info": {
   "codemirror_mode": {
    "name": "ipython",
    "version": 3
   },
   "file_extension": ".py",
   "mimetype": "text/x-python",
   "name": "python",
   "nbconvert_exporter": "python",
   "pygments_lexer": "ipython3",
   "version": "3.9.13"
  }
 },
 "nbformat": 4,
 "nbformat_minor": 5
}
