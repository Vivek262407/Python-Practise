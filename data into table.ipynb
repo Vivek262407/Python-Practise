{
 "cells": [
  {
   "cell_type": "markdown",
   "id": "01470292",
   "metadata": {},
   "source": [
    "# To convert data into table"
   ]
  },
  {
   "cell_type": "code",
   "execution_count": 1,
   "id": "c0714b71",
   "metadata": {},
   "outputs": [],
   "source": [
    "from texttable import Texttable"
   ]
  },
  {
   "cell_type": "code",
   "execution_count": 2,
   "id": "1fc02f09",
   "metadata": {},
   "outputs": [],
   "source": [
    "t = Texttable()"
   ]
  },
  {
   "cell_type": "code",
   "execution_count": 3,
   "id": "1aba25b5",
   "metadata": {},
   "outputs": [
    {
     "data": {
      "text/plain": [
       "<texttable.Texttable at 0x217cac74580>"
      ]
     },
     "execution_count": 3,
     "metadata": {},
     "output_type": "execute_result"
    }
   ],
   "source": [
    " t.add_rows([['Fruit', 'Price/Kg'], ['Apple', 25], ['Banana', 20],['oranges','50']])"
   ]
  },
  {
   "cell_type": "code",
   "execution_count": 4,
   "id": "e1255781",
   "metadata": {},
   "outputs": [
    {
     "name": "stdout",
     "output_type": "stream",
     "text": [
      "+---------+----------+\n",
      "|  Fruit  | Price/Kg |\n",
      "+=========+==========+\n",
      "| Apple   | 25       |\n",
      "+---------+----------+\n",
      "| Banana  | 20       |\n",
      "+---------+----------+\n",
      "| oranges | 50       |\n",
      "+---------+----------+\n"
     ]
    }
   ],
   "source": [
    "print(t.draw())"
   ]
  },
  {
   "cell_type": "code",
   "execution_count": null,
   "id": "ab72d1ea",
   "metadata": {},
   "outputs": [],
   "source": []
  }
 ],
 "metadata": {
  "kernelspec": {
   "display_name": "Python 3 (ipykernel)",
   "language": "python",
   "name": "python3"
  },
  "language_info": {
   "codemirror_mode": {
    "name": "ipython",
    "version": 3
   },
   "file_extension": ".py",
   "mimetype": "text/x-python",
   "name": "python",
   "nbconvert_exporter": "python",
   "pygments_lexer": "ipython3",
   "version": "3.10.9"
  }
 },
 "nbformat": 4,
 "nbformat_minor": 5
}
