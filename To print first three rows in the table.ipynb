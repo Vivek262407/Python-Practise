{
 "cells": [
  {
   "cell_type": "markdown",
   "id": "6fa0b698",
   "metadata": {},
   "source": [
    "# To print first three rows in the table"
   ]
  },
  {
   "cell_type": "code",
   "execution_count": 12,
   "id": "6a442cf2",
   "metadata": {},
   "outputs": [],
   "source": [
    "import pandas as pd\n",
    "from tabulate import tabulate"
   ]
  },
  {
   "cell_type": "code",
   "execution_count": 13,
   "id": "b4c5f8d0",
   "metadata": {},
   "outputs": [
    {
     "name": "stdout",
     "output_type": "stream",
     "text": [
      "|    |   employee_id | name      | department            |   salary |\n",
      "|---:|--------------:|:----------|:----------------------|---------:|\n",
      "|  0 |             3 | Bob       | Operations            |    48675 |\n",
      "|  1 |            90 | Alice     | Sales                 |    11096 |\n",
      "|  2 |             9 | Tatiana   | Engineering           |    33805 |\n",
      "|  3 |            60 | Annabelle | InformationTechnology |    37678 |\n",
      "|  4 |            49 | Jonathan  | HumanResources        |    23793 |\n",
      "|  5 |            43 | Khaled    | Administration        |    40454 |\n"
     ]
    }
   ],
   "source": [
    "# Create DataFrame\n",
    "employees = pd.DataFrame({\n",
    "    'employee_id': [3, 90, 9, 60, 49, 43],\n",
    "    'name': ['Bob', 'Alice', 'Tatiana', 'Annabelle', 'Jonathan', 'Khaled'],\n",
    "    'department': ['Operations', 'Sales', 'Engineering', 'InformationTechnology', 'HumanResources', 'Administration'],\n",
    "    'salary': [48675, 11096, 33805, 37678, 23793, 40454]\n",
    "})\n",
    "\n",
    "# Print DataFrame with borders\n",
    "print(tabulate(employees, headers='keys', tablefmt='pipe'))"
   ]
  },
  {
   "cell_type": "code",
   "execution_count": 14,
   "id": "e00ee325",
   "metadata": {},
   "outputs": [
    {
     "name": "stdout",
     "output_type": "stream",
     "text": [
      "|    |   employee_id | name    | department   |   salary |\n",
      "|---:|--------------:|:--------|:-------------|---------:|\n",
      "|  0 |             3 | Bob     | Operations   |    48675 |\n",
      "|  1 |            90 | Alice   | Sales        |    11096 |\n",
      "|  2 |             9 | Tatiana | Engineering  |    33805 |\n"
     ]
    }
   ],
   "source": [
    "print(tabulate(employees.head(3), headers='keys', tablefmt='pipe'))"
   ]
  },
  {
   "cell_type": "code",
   "execution_count": null,
   "id": "f4ee56f4",
   "metadata": {},
   "outputs": [],
   "source": []
  }
 ],
 "metadata": {
  "kernelspec": {
   "display_name": "Python 3 (ipykernel)",
   "language": "python",
   "name": "python3"
  },
  "language_info": {
   "codemirror_mode": {
    "name": "ipython",
    "version": 3
   },
   "file_extension": ".py",
   "mimetype": "text/x-python",
   "name": "python",
   "nbconvert_exporter": "python",
   "pygments_lexer": "ipython3",
   "version": "3.10.9"
  }
 },
 "nbformat": 4,
 "nbformat_minor": 5
}
