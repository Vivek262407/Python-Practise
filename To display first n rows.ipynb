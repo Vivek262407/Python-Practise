{
 "cells": [
  {
   "cell_type": "markdown",
   "id": "eafda358",
   "metadata": {},
   "source": [
    "# To Display the first three rows "
   ]
  },
  {
   "cell_type": "code",
   "execution_count": 4,
   "id": "ce0d438d",
   "metadata": {},
   "outputs": [],
   "source": [
    "import pandas as pd"
   ]
  },
  {
   "cell_type": "code",
   "execution_count": 9,
   "id": "a1405d9f",
   "metadata": {},
   "outputs": [],
   "source": [
    "# Assuming employees is your DataFrame\n",
    "employees = pd.DataFrame({\n",
    "    'employee_id': [3, 90, 9, 60, 49, 43],\n",
    "    'name': ['Bob', 'Alice', 'Tatiana', 'Annabelle', 'Jonathan', 'Khaled'],\n",
    "    'department': ['Operations', 'Sales', 'Engineering', 'InformationTechnology', 'HumanResources', 'Administration'],\n",
    "    'salary': [48675, 11096, 33805, 37678, 23793, 40454]\n",
    "})"
   ]
  },
  {
   "cell_type": "code",
   "execution_count": 7,
   "id": "8ca558e9",
   "metadata": {},
   "outputs": [
    {
     "name": "stdout",
     "output_type": "stream",
     "text": [
      "   employee_id       name             department  salary\n",
      "0            3        Bob             Operations   48675\n",
      "1           90      Alice                  Sales   11096\n",
      "2            9    Tatiana            Engineering   33805\n",
      "3           60  Annabelle  InformationTechnology   37678\n",
      "4           49   Jonathan         HumanResources   23793\n",
      "5           43     Khaled         Administration   40454\n"
     ]
    }
   ],
   "source": [
    "print(employees)"
   ]
  },
  {
   "cell_type": "code",
   "execution_count": 8,
   "id": "3c4d67ac",
   "metadata": {},
   "outputs": [
    {
     "name": "stdout",
     "output_type": "stream",
     "text": [
      "   employee_id     name   department  salary\n",
      "0            3      Bob   Operations   48675\n",
      "1           90    Alice        Sales   11096\n",
      "2            9  Tatiana  Engineering   33805\n"
     ]
    }
   ],
   "source": [
    "# Display the first three rows\n",
    "first_three_rows = employees.head(3)\n",
    "print(first_three_rows)"
   ]
  },
  {
   "cell_type": "code",
   "execution_count": null,
   "id": "3c6cae69",
   "metadata": {},
   "outputs": [],
   "source": []
  }
 ],
 "metadata": {
  "kernelspec": {
   "display_name": "Python 3 (ipykernel)",
   "language": "python",
   "name": "python3"
  },
  "language_info": {
   "codemirror_mode": {
    "name": "ipython",
    "version": 3
   },
   "file_extension": ".py",
   "mimetype": "text/x-python",
   "name": "python",
   "nbconvert_exporter": "python",
   "pygments_lexer": "ipython3",
   "version": "3.10.9"
  }
 },
 "nbformat": 4,
 "nbformat_minor": 5
}
