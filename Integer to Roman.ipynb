{
 "cells": [
  {
   "cell_type": "markdown",
   "id": "1e67d122",
   "metadata": {},
   "source": [
    "# Integer to Roman\n",
    "    Input: num = 58\n",
    "    Output: \"LVIII\"\n",
    "    Explanation: L = 50, V = 5, III = 3."
   ]
  },
  {
   "cell_type": "code",
   "execution_count": 4,
   "id": "51873a7d",
   "metadata": {},
   "outputs": [],
   "source": [
    "class Solution:\n",
    "    def intToRoman(self, num: int) -> str:\n",
    "        r = [\"\", \"I\", \"II\", \"III\", \"IV\", \"V\", \"VI\", \"VII\", \"VIII\", \"IX\",\n",
    "             \"\", \"X\", \"XX\", \"XXX\", \"XL\", \"L\", \"LX\", \"LXX\", \"LXXX\", \"XC\",\n",
    "             \"\", \"C\", \"CC\", \"CCC\", \"CD\", \"D\", \"DC\", \"DCC\", \"DCCC\", \"CM\",\n",
    "             \"\", \"M\", \"MM\", \"MMM\"]\n",
    "        return r[num // 1000 % 10 + 30] + r[num // 100 % 10 + 20] + r[num // 10 % 10 + 10] + r[num % 10]"
   ]
  },
  {
   "cell_type": "code",
   "execution_count": 5,
   "id": "50e8152a",
   "metadata": {},
   "outputs": [
    {
     "name": "stdout",
     "output_type": "stream",
     "text": [
      "LVIII\n"
     ]
    }
   ],
   "source": [
    "# Example usage:\n",
    "sol = Solution()\n",
    "print(sol.intToRoman(58))"
   ]
  },
  {
   "cell_type": "code",
   "execution_count": null,
   "id": "44ae54bc",
   "metadata": {},
   "outputs": [],
   "source": []
  }
 ],
 "metadata": {
  "kernelspec": {
   "display_name": "Python 3 (ipykernel)",
   "language": "python",
   "name": "python3"
  },
  "language_info": {
   "codemirror_mode": {
    "name": "ipython",
    "version": 3
   },
   "file_extension": ".py",
   "mimetype": "text/x-python",
   "name": "python",
   "nbconvert_exporter": "python",
   "pygments_lexer": "ipython3",
   "version": "3.9.13"
  }
 },
 "nbformat": 4,
 "nbformat_minor": 5
}
