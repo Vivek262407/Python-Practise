{
 "cells": [
  {
   "cell_type": "markdown",
   "id": "63ea0e0a",
   "metadata": {},
   "source": [
    "# Median of Two Sorted Arrays\n",
    "    Input: nums1 = [1,3], nums2 = [2]\n",
    "    Output: 2.00000\n",
    "    Explanation: merged array = [1,2,3] and median is 2."
   ]
  },
  {
   "cell_type": "code",
   "execution_count": 1,
   "id": "79f9037e",
   "metadata": {},
   "outputs": [],
   "source": [
    "class Solution:\n",
    "    def findMedianSortedArrays(self, nums1, nums2):\n",
    "        merged = sorted(nums1 + nums2)\n",
    "        middle = len(merged) // 2\n",
    "        return (merged[middle] + merged[~middle]) / 2"
   ]
  },
  {
   "cell_type": "code",
   "execution_count": 2,
   "id": "8ea315b8",
   "metadata": {},
   "outputs": [],
   "source": [
    "# Create an instance of the Solution class\n",
    "solution = Solution()"
   ]
  },
  {
   "cell_type": "code",
   "execution_count": 3,
   "id": "b1190fd7",
   "metadata": {},
   "outputs": [
    {
     "name": "stdout",
     "output_type": "stream",
     "text": [
      "Median of the sorted arrays: 2.0\n"
     ]
    }
   ],
   "source": [
    "# Test case\n",
    "nums1 = [1, 3]\n",
    "nums2 = [2]\n",
    "print(\"Median of the sorted arrays:\", solution.findMedianSortedArrays(nums1, nums2))"
   ]
  },
  {
   "cell_type": "code",
   "execution_count": null,
   "id": "4d1c623a",
   "metadata": {},
   "outputs": [],
   "source": []
  }
 ],
 "metadata": {
  "kernelspec": {
   "display_name": "Python 3 (ipykernel)",
   "language": "python",
   "name": "python3"
  },
  "language_info": {
   "codemirror_mode": {
    "name": "ipython",
    "version": 3
   },
   "file_extension": ".py",
   "mimetype": "text/x-python",
   "name": "python",
   "nbconvert_exporter": "python",
   "pygments_lexer": "ipython3",
   "version": "3.9.13"
  }
 },
 "nbformat": 4,
 "nbformat_minor": 5
}
