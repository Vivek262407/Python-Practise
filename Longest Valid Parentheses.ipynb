{
 "cells": [
  {
   "cell_type": "markdown",
   "id": "4c5a6de3",
   "metadata": {},
   "source": [
    "# Longest Valid Parentheses\n",
    "    Example 1:\n",
    "    Input: s = \"(()\"\n",
    "    Output: 2\n",
    "    Explanation: The longest valid parentheses substring is \"()\".\n",
    "    \n",
    "    Example 2:\n",
    "    Input: s = \")()())\"\n",
    "    Output: 4\n",
    "    Explanation: The longest valid parentheses substring is \"()()\".\n",
    "\n",
    "    Example 3:\n",
    "    Input: s = \"\"\n",
    "    Output: 0"
   ]
  },
  {
   "cell_type": "code",
   "execution_count": 1,
   "id": "d28deec7",
   "metadata": {},
   "outputs": [],
   "source": [
    "# Define the Solution class with the shortened longestValidParentheses method\n",
    "class Solution:\n",
    "    def longestValidParentheses(self, s: str) -> int:\n",
    "        stack = []\n",
    "        ans = temp = 0\n",
    "\n",
    "        for i, c in enumerate(s):\n",
    "            if c == '(':\n",
    "                stack.append(i)\n",
    "            elif stack:\n",
    "                start = stack.pop()\n",
    "                temp = i - stack[-1] if stack else i - start\n",
    "                ans = max(ans, temp)\n",
    "            else:\n",
    "                temp = 0\n",
    "\n",
    "        return ans"
   ]
  },
  {
   "cell_type": "code",
   "execution_count": 2,
   "id": "68dfd2d5",
   "metadata": {},
   "outputs": [],
   "source": [
    "# Create an instance of the Solution class\n",
    "solution = Solution()"
   ]
  },
  {
   "cell_type": "code",
   "execution_count": 3,
   "id": "9171a12a",
   "metadata": {},
   "outputs": [
    {
     "name": "stdout",
     "output_type": "stream",
     "text": [
      "2\n"
     ]
    }
   ],
   "source": [
    "# Test the longestValidParentheses method with a string argument\n",
    "input_string = \"(()\"\n",
    "print(solution.longestValidParentheses(input_string)) "
   ]
  },
  {
   "cell_type": "code",
   "execution_count": 4,
   "id": "97be1089",
   "metadata": {},
   "outputs": [
    {
     "name": "stdout",
     "output_type": "stream",
     "text": [
      "1\n"
     ]
    }
   ],
   "source": [
    "input_string = \")()())\"\n",
    "print(solution.longestValidParentheses(input_string)) "
   ]
  },
  {
   "cell_type": "code",
   "execution_count": 5,
   "id": "c5f05d8e",
   "metadata": {},
   "outputs": [
    {
     "name": "stdout",
     "output_type": "stream",
     "text": [
      "0\n"
     ]
    }
   ],
   "source": [
    "input_string = \"\"\n",
    "print(solution.longestValidParentheses(input_string))  "
   ]
  },
  {
   "cell_type": "code",
   "execution_count": null,
   "id": "6459d7d7",
   "metadata": {},
   "outputs": [],
   "source": []
  }
 ],
 "metadata": {
  "kernelspec": {
   "display_name": "Python 3 (ipykernel)",
   "language": "python",
   "name": "python3"
  },
  "language_info": {
   "codemirror_mode": {
    "name": "ipython",
    "version": 3
   },
   "file_extension": ".py",
   "mimetype": "text/x-python",
   "name": "python",
   "nbconvert_exporter": "python",
   "pygments_lexer": "ipython3",
   "version": "3.10.9"
  }
 },
 "nbformat": 4,
 "nbformat_minor": 5
}
